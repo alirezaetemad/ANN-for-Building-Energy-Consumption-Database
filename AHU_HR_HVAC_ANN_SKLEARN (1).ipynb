{
  "cells": [
    {
      "cell_type": "markdown",
      "source": [
        "In this dataset, P0 to P6 are various architectural and mechanical  parameters of a building which was simulated in EnergyPlus. ( I will update with more details as soon as the paper related to this research has been published) \n",
        "Furthermore, v1, v2 and v3 are output parameters of this simulation (namely: Energy consumption, Discomfort hours, and carbon footprint)"
      ],
      "metadata": {
        "id": "wxmiw7AEXP0Q"
      }
    },
    {
      "cell_type": "code",
      "execution_count": 1,
      "metadata": {
        "id": "4XQzVmIQO1Fo"
      },
      "outputs": [],
      "source": [
        "import pandas as pd\n",
        "import numpy as np \n",
        "import matplotlib.pyplot as plt\n",
        "import sklearn\n",
        "from sklearn.neural_network import MLPClassifier\n",
        "from sklearn.neural_network import MLPRegressor\n",
        "\n",
        "# Import necessary modules\n",
        "from sklearn.model_selection import train_test_split\n",
        "from sklearn.metrics import mean_squared_error\n",
        "from math import sqrt\n",
        "from sklearn.metrics import r2_score"
      ]
    },
    {
      "cell_type": "code",
      "execution_count": 2,
      "metadata": {
        "id": "unpNwbMsO1Fv"
      },
      "outputs": [],
      "source": [
        "import warnings\n",
        "warnings.filterwarnings('ignore')"
      ]
    },
    {
      "cell_type": "code",
      "source": [
        "from google.colab import drive\n",
        "import os\n",
        "drive.mount('/content/gdrive')\n",
        "os.chdir(\"/content/gdrive/My Drive/\")"
      ],
      "metadata": {
        "colab": {
          "base_uri": "https://localhost:8080/"
        },
        "id": "YSeXlhGtQDfb",
        "outputId": "237d3235-d8c9-49cd-ef11-11b8b22215af"
      },
      "execution_count": 3,
      "outputs": [
        {
          "output_type": "stream",
          "name": "stdout",
          "text": [
            "Mounted at /content/gdrive\n"
          ]
        }
      ]
    },
    {
      "cell_type": "markdown",
      "metadata": {
        "id": "pacauW_PO1Fx"
      },
      "source": [
        "# Import Dataset"
      ]
    },
    {
      "cell_type": "code",
      "execution_count": 4,
      "metadata": {
        "id": "ezpjDfDHO1Fz"
      },
      "outputs": [],
      "source": [
        "df = pd.read_csv('AHU HR 25600.csv')"
      ]
    },
    {
      "cell_type": "code",
      "execution_count": 5,
      "metadata": {
        "colab": {
          "base_uri": "https://localhost:8080/",
          "height": 411
        },
        "id": "CGfiEO_jO1F1",
        "outputId": "e00dcc80-21f8-40bc-cef3-2ea5688e4868"
      },
      "outputs": [
        {
          "output_type": "stream",
          "name": "stdout",
          "text": [
            "(25600, 14)\n"
          ]
        },
        {
          "output_type": "execute_result",
          "data": {
            "text/html": [
              "\n",
              "  <div id=\"df-8fc5642a-d258-4b43-b02e-38ad8bff57b0\">\n",
              "    <div class=\"colab-df-container\">\n",
              "      <div>\n",
              "<style scoped>\n",
              "    .dataframe tbody tr th:only-of-type {\n",
              "        vertical-align: middle;\n",
              "    }\n",
              "\n",
              "    .dataframe tbody tr th {\n",
              "        vertical-align: top;\n",
              "    }\n",
              "\n",
              "    .dataframe thead th {\n",
              "        text-align: right;\n",
              "    }\n",
              "</style>\n",
              "<table border=\"1\" class=\"dataframe\">\n",
              "  <thead>\n",
              "    <tr style=\"text-align: right;\">\n",
              "      <th></th>\n",
              "      <th>count</th>\n",
              "      <th>mean</th>\n",
              "      <th>std</th>\n",
              "      <th>min</th>\n",
              "      <th>25%</th>\n",
              "      <th>50%</th>\n",
              "      <th>75%</th>\n",
              "      <th>max</th>\n",
              "    </tr>\n",
              "  </thead>\n",
              "  <tbody>\n",
              "    <tr>\n",
              "      <th>#</th>\n",
              "      <td>25600.0</td>\n",
              "      <td>12799.500000</td>\n",
              "      <td>7390.227782</td>\n",
              "      <td>0.00</td>\n",
              "      <td>6399.7500</td>\n",
              "      <td>12799.500</td>\n",
              "      <td>19199.2500</td>\n",
              "      <td>25599.00</td>\n",
              "    </tr>\n",
              "    <tr>\n",
              "      <th>P0</th>\n",
              "      <td>25600.0</td>\n",
              "      <td>24.000000</td>\n",
              "      <td>1.414241</td>\n",
              "      <td>22.00</td>\n",
              "      <td>23.0000</td>\n",
              "      <td>24.000</td>\n",
              "      <td>25.0000</td>\n",
              "      <td>26.00</td>\n",
              "    </tr>\n",
              "    <tr>\n",
              "      <th>P1</th>\n",
              "      <td>25600.0</td>\n",
              "      <td>0.125000</td>\n",
              "      <td>0.055903</td>\n",
              "      <td>0.05</td>\n",
              "      <td>0.0875</td>\n",
              "      <td>0.125</td>\n",
              "      <td>0.1625</td>\n",
              "      <td>0.20</td>\n",
              "    </tr>\n",
              "    <tr>\n",
              "      <th>P2</th>\n",
              "      <td>25600.0</td>\n",
              "      <td>0.095000</td>\n",
              "      <td>0.033542</td>\n",
              "      <td>0.05</td>\n",
              "      <td>0.0725</td>\n",
              "      <td>0.095</td>\n",
              "      <td>0.1175</td>\n",
              "      <td>0.14</td>\n",
              "    </tr>\n",
              "    <tr>\n",
              "      <th>P3</th>\n",
              "      <td>25600.0</td>\n",
              "      <td>8.000000</td>\n",
              "      <td>4.242724</td>\n",
              "      <td>2.00</td>\n",
              "      <td>5.0000</td>\n",
              "      <td>8.000</td>\n",
              "      <td>11.0000</td>\n",
              "      <td>14.00</td>\n",
              "    </tr>\n",
              "    <tr>\n",
              "      <th>P4</th>\n",
              "      <td>25600.0</td>\n",
              "      <td>0.750000</td>\n",
              "      <td>0.111806</td>\n",
              "      <td>0.60</td>\n",
              "      <td>0.6750</td>\n",
              "      <td>0.750</td>\n",
              "      <td>0.8250</td>\n",
              "      <td>0.90</td>\n",
              "    </tr>\n",
              "    <tr>\n",
              "      <th>P5</th>\n",
              "      <td>25600.0</td>\n",
              "      <td>26.500000</td>\n",
              "      <td>1.118056</td>\n",
              "      <td>25.00</td>\n",
              "      <td>25.7500</td>\n",
              "      <td>26.500</td>\n",
              "      <td>27.2500</td>\n",
              "      <td>28.00</td>\n",
              "    </tr>\n",
              "    <tr>\n",
              "      <th>P6</th>\n",
              "      <td>25600.0</td>\n",
              "      <td>20.500000</td>\n",
              "      <td>5.590279</td>\n",
              "      <td>13.00</td>\n",
              "      <td>16.7500</td>\n",
              "      <td>20.500</td>\n",
              "      <td>24.2500</td>\n",
              "      <td>28.00</td>\n",
              "    </tr>\n",
              "    <tr>\n",
              "      <th>v1</th>\n",
              "      <td>25600.0</td>\n",
              "      <td>8460.874193</td>\n",
              "      <td>1374.552580</td>\n",
              "      <td>5201.68</td>\n",
              "      <td>7448.5100</td>\n",
              "      <td>8360.510</td>\n",
              "      <td>9370.8600</td>\n",
              "      <td>12907.64</td>\n",
              "    </tr>\n",
              "    <tr>\n",
              "      <th>v2</th>\n",
              "      <td>25600.0</td>\n",
              "      <td>338.634590</td>\n",
              "      <td>258.034677</td>\n",
              "      <td>0.00</td>\n",
              "      <td>76.8750</td>\n",
              "      <td>325.500</td>\n",
              "      <td>580.5000</td>\n",
              "      <td>776.50</td>\n",
              "    </tr>\n",
              "    <tr>\n",
              "      <th>v3</th>\n",
              "      <td>25600.0</td>\n",
              "      <td>2985.076178</td>\n",
              "      <td>558.202377</td>\n",
              "      <td>1629.05</td>\n",
              "      <td>2581.4700</td>\n",
              "      <td>2960.120</td>\n",
              "      <td>3363.3100</td>\n",
              "      <td>4812.98</td>\n",
              "    </tr>\n",
              "  </tbody>\n",
              "</table>\n",
              "</div>\n",
              "      <button class=\"colab-df-convert\" onclick=\"convertToInteractive('df-8fc5642a-d258-4b43-b02e-38ad8bff57b0')\"\n",
              "              title=\"Convert this dataframe to an interactive table.\"\n",
              "              style=\"display:none;\">\n",
              "        \n",
              "  <svg xmlns=\"http://www.w3.org/2000/svg\" height=\"24px\"viewBox=\"0 0 24 24\"\n",
              "       width=\"24px\">\n",
              "    <path d=\"M0 0h24v24H0V0z\" fill=\"none\"/>\n",
              "    <path d=\"M18.56 5.44l.94 2.06.94-2.06 2.06-.94-2.06-.94-.94-2.06-.94 2.06-2.06.94zm-11 1L8.5 8.5l.94-2.06 2.06-.94-2.06-.94L8.5 2.5l-.94 2.06-2.06.94zm10 10l.94 2.06.94-2.06 2.06-.94-2.06-.94-.94-2.06-.94 2.06-2.06.94z\"/><path d=\"M17.41 7.96l-1.37-1.37c-.4-.4-.92-.59-1.43-.59-.52 0-1.04.2-1.43.59L10.3 9.45l-7.72 7.72c-.78.78-.78 2.05 0 2.83L4 21.41c.39.39.9.59 1.41.59.51 0 1.02-.2 1.41-.59l7.78-7.78 2.81-2.81c.8-.78.8-2.07 0-2.86zM5.41 20L4 18.59l7.72-7.72 1.47 1.35L5.41 20z\"/>\n",
              "  </svg>\n",
              "      </button>\n",
              "      \n",
              "  <style>\n",
              "    .colab-df-container {\n",
              "      display:flex;\n",
              "      flex-wrap:wrap;\n",
              "      gap: 12px;\n",
              "    }\n",
              "\n",
              "    .colab-df-convert {\n",
              "      background-color: #E8F0FE;\n",
              "      border: none;\n",
              "      border-radius: 50%;\n",
              "      cursor: pointer;\n",
              "      display: none;\n",
              "      fill: #1967D2;\n",
              "      height: 32px;\n",
              "      padding: 0 0 0 0;\n",
              "      width: 32px;\n",
              "    }\n",
              "\n",
              "    .colab-df-convert:hover {\n",
              "      background-color: #E2EBFA;\n",
              "      box-shadow: 0px 1px 2px rgba(60, 64, 67, 0.3), 0px 1px 3px 1px rgba(60, 64, 67, 0.15);\n",
              "      fill: #174EA6;\n",
              "    }\n",
              "\n",
              "    [theme=dark] .colab-df-convert {\n",
              "      background-color: #3B4455;\n",
              "      fill: #D2E3FC;\n",
              "    }\n",
              "\n",
              "    [theme=dark] .colab-df-convert:hover {\n",
              "      background-color: #434B5C;\n",
              "      box-shadow: 0px 1px 3px 1px rgba(0, 0, 0, 0.15);\n",
              "      filter: drop-shadow(0px 1px 2px rgba(0, 0, 0, 0.3));\n",
              "      fill: #FFFFFF;\n",
              "    }\n",
              "  </style>\n",
              "\n",
              "      <script>\n",
              "        const buttonEl =\n",
              "          document.querySelector('#df-8fc5642a-d258-4b43-b02e-38ad8bff57b0 button.colab-df-convert');\n",
              "        buttonEl.style.display =\n",
              "          google.colab.kernel.accessAllowed ? 'block' : 'none';\n",
              "\n",
              "        async function convertToInteractive(key) {\n",
              "          const element = document.querySelector('#df-8fc5642a-d258-4b43-b02e-38ad8bff57b0');\n",
              "          const dataTable =\n",
              "            await google.colab.kernel.invokeFunction('convertToInteractive',\n",
              "                                                     [key], {});\n",
              "          if (!dataTable) return;\n",
              "\n",
              "          const docLinkHtml = 'Like what you see? Visit the ' +\n",
              "            '<a target=\"_blank\" href=https://colab.research.google.com/notebooks/data_table.ipynb>data table notebook</a>'\n",
              "            + ' to learn more about interactive tables.';\n",
              "          element.innerHTML = '';\n",
              "          dataTable['output_type'] = 'display_data';\n",
              "          await google.colab.output.renderOutput(dataTable, element);\n",
              "          const docLink = document.createElement('div');\n",
              "          docLink.innerHTML = docLinkHtml;\n",
              "          element.appendChild(docLink);\n",
              "        }\n",
              "      </script>\n",
              "    </div>\n",
              "  </div>\n",
              "  "
            ],
            "text/plain": [
              "      count          mean          std  ...        50%         75%       max\n",
              "#   25600.0  12799.500000  7390.227782  ...  12799.500  19199.2500  25599.00\n",
              "P0  25600.0     24.000000     1.414241  ...     24.000     25.0000     26.00\n",
              "P1  25600.0      0.125000     0.055903  ...      0.125      0.1625      0.20\n",
              "P2  25600.0      0.095000     0.033542  ...      0.095      0.1175      0.14\n",
              "P3  25600.0      8.000000     4.242724  ...      8.000     11.0000     14.00\n",
              "P4  25600.0      0.750000     0.111806  ...      0.750      0.8250      0.90\n",
              "P5  25600.0     26.500000     1.118056  ...     26.500     27.2500     28.00\n",
              "P6  25600.0     20.500000     5.590279  ...     20.500     24.2500     28.00\n",
              "v1  25600.0   8460.874193  1374.552580  ...   8360.510   9370.8600  12907.64\n",
              "v2  25600.0    338.634590   258.034677  ...    325.500    580.5000    776.50\n",
              "v3  25600.0   2985.076178   558.202377  ...   2960.120   3363.3100   4812.98\n",
              "\n",
              "[11 rows x 8 columns]"
            ]
          },
          "metadata": {},
          "execution_count": 5
        }
      ],
      "source": [
        "print(df.shape)\n",
        "df.describe().transpose()"
      ]
    },
    {
      "cell_type": "code",
      "execution_count": 6,
      "metadata": {
        "colab": {
          "base_uri": "https://localhost:8080/"
        },
        "id": "E_CQjPSmO1F4",
        "outputId": "30f231e3-082d-4ce6-e5a8-aef898a08e33"
      },
      "outputs": [
        {
          "output_type": "execute_result",
          "data": {
            "text/plain": [
              "#             int64\n",
              "Solution     object\n",
              "W            object\n",
              "T            object\n",
              "P0            int64\n",
              "P1          float64\n",
              "P2          float64\n",
              "P3            int64\n",
              "P4          float64\n",
              "P5            int64\n",
              "P6            int64\n",
              "v1          float64\n",
              "v2          float64\n",
              "v3          float64\n",
              "dtype: object"
            ]
          },
          "metadata": {},
          "execution_count": 6
        }
      ],
      "source": [
        "df.dtypes"
      ]
    },
    {
      "cell_type": "code",
      "execution_count": 7,
      "metadata": {
        "colab": {
          "base_uri": "https://localhost:8080/"
        },
        "id": "VnuLMqvMO1F5",
        "outputId": "c2437402-c3b7-4a9a-c7a4-97bdd96790c7"
      },
      "outputs": [
        {
          "output_type": "execute_result",
          "data": {
            "text/plain": [
              "#             int64\n",
              "Solution     object\n",
              "W            object\n",
              "T            object\n",
              "P0          float64\n",
              "P1          float64\n",
              "P2          float64\n",
              "P3          float64\n",
              "P4          float64\n",
              "P5          float64\n",
              "P6          float64\n",
              "v1            int64\n",
              "v2            int64\n",
              "v3            int64\n",
              "dtype: object"
            ]
          },
          "metadata": {},
          "execution_count": 7
        }
      ],
      "source": [
        "df['P0'] = df['P0'].astype(float)\n",
        "df['P1'] = df['P1'].astype(float)\n",
        "df['P2'] = df['P2'].astype(float)\n",
        "df['P3'] = df['P3'].astype(float)\n",
        "df['P4'] = df['P4'].astype(float)\n",
        "df['P5'] = df['P5'].astype(float)\n",
        "df['P6'] = df['P6'].astype(float)\n",
        "df['v1'] = df['v1'].astype(int)\n",
        "df['v2'] = df['v2'].astype(int)\n",
        "df['v3'] = df['v3'].astype(int)\n",
        "df.dtypes"
      ]
    },
    {
      "cell_type": "code",
      "source": [
        "target_column = ['v1'] \n",
        "predictors = ['P0', 'P1' , 'P2' , 'P3' , 'P4' , 'P5' , 'P6']\n",
        "df[predictors] = df[predictors]/df[predictors].max()\n",
        "df.describe().transpose()"
      ],
      "metadata": {
        "colab": {
          "base_uri": "https://localhost:8080/",
          "height": 394
        },
        "id": "1Q2nPZQE3AG_",
        "outputId": "8744d08c-be2c-4236-8afe-8df0e75e7d20"
      },
      "execution_count": 8,
      "outputs": [
        {
          "output_type": "execute_result",
          "data": {
            "text/html": [
              "\n",
              "  <div id=\"df-d294e13e-4f3a-4ed7-99fc-faa36036d4f0\">\n",
              "    <div class=\"colab-df-container\">\n",
              "      <div>\n",
              "<style scoped>\n",
              "    .dataframe tbody tr th:only-of-type {\n",
              "        vertical-align: middle;\n",
              "    }\n",
              "\n",
              "    .dataframe tbody tr th {\n",
              "        vertical-align: top;\n",
              "    }\n",
              "\n",
              "    .dataframe thead th {\n",
              "        text-align: right;\n",
              "    }\n",
              "</style>\n",
              "<table border=\"1\" class=\"dataframe\">\n",
              "  <thead>\n",
              "    <tr style=\"text-align: right;\">\n",
              "      <th></th>\n",
              "      <th>count</th>\n",
              "      <th>mean</th>\n",
              "      <th>std</th>\n",
              "      <th>min</th>\n",
              "      <th>25%</th>\n",
              "      <th>50%</th>\n",
              "      <th>75%</th>\n",
              "      <th>max</th>\n",
              "    </tr>\n",
              "  </thead>\n",
              "  <tbody>\n",
              "    <tr>\n",
              "      <th>#</th>\n",
              "      <td>25600.0</td>\n",
              "      <td>12799.500000</td>\n",
              "      <td>7390.227782</td>\n",
              "      <td>0.000000</td>\n",
              "      <td>6399.750000</td>\n",
              "      <td>12799.500000</td>\n",
              "      <td>19199.250000</td>\n",
              "      <td>25599.0</td>\n",
              "    </tr>\n",
              "    <tr>\n",
              "      <th>P0</th>\n",
              "      <td>25600.0</td>\n",
              "      <td>0.923077</td>\n",
              "      <td>0.054394</td>\n",
              "      <td>0.846154</td>\n",
              "      <td>0.884615</td>\n",
              "      <td>0.923077</td>\n",
              "      <td>0.961538</td>\n",
              "      <td>1.0</td>\n",
              "    </tr>\n",
              "    <tr>\n",
              "      <th>P1</th>\n",
              "      <td>25600.0</td>\n",
              "      <td>0.625000</td>\n",
              "      <td>0.279514</td>\n",
              "      <td>0.250000</td>\n",
              "      <td>0.437500</td>\n",
              "      <td>0.625000</td>\n",
              "      <td>0.812500</td>\n",
              "      <td>1.0</td>\n",
              "    </tr>\n",
              "    <tr>\n",
              "      <th>P2</th>\n",
              "      <td>25600.0</td>\n",
              "      <td>0.678571</td>\n",
              "      <td>0.239583</td>\n",
              "      <td>0.357143</td>\n",
              "      <td>0.517857</td>\n",
              "      <td>0.678571</td>\n",
              "      <td>0.839286</td>\n",
              "      <td>1.0</td>\n",
              "    </tr>\n",
              "    <tr>\n",
              "      <th>P3</th>\n",
              "      <td>25600.0</td>\n",
              "      <td>0.571429</td>\n",
              "      <td>0.303052</td>\n",
              "      <td>0.142857</td>\n",
              "      <td>0.357143</td>\n",
              "      <td>0.571429</td>\n",
              "      <td>0.785714</td>\n",
              "      <td>1.0</td>\n",
              "    </tr>\n",
              "    <tr>\n",
              "      <th>P4</th>\n",
              "      <td>25600.0</td>\n",
              "      <td>0.833333</td>\n",
              "      <td>0.124228</td>\n",
              "      <td>0.666667</td>\n",
              "      <td>0.750000</td>\n",
              "      <td>0.833333</td>\n",
              "      <td>0.916667</td>\n",
              "      <td>1.0</td>\n",
              "    </tr>\n",
              "    <tr>\n",
              "      <th>P5</th>\n",
              "      <td>25600.0</td>\n",
              "      <td>0.946429</td>\n",
              "      <td>0.039931</td>\n",
              "      <td>0.892857</td>\n",
              "      <td>0.919643</td>\n",
              "      <td>0.946429</td>\n",
              "      <td>0.973214</td>\n",
              "      <td>1.0</td>\n",
              "    </tr>\n",
              "    <tr>\n",
              "      <th>P6</th>\n",
              "      <td>25600.0</td>\n",
              "      <td>0.732143</td>\n",
              "      <td>0.199653</td>\n",
              "      <td>0.464286</td>\n",
              "      <td>0.598214</td>\n",
              "      <td>0.732143</td>\n",
              "      <td>0.866071</td>\n",
              "      <td>1.0</td>\n",
              "    </tr>\n",
              "    <tr>\n",
              "      <th>v1</th>\n",
              "      <td>25600.0</td>\n",
              "      <td>8460.377852</td>\n",
              "      <td>1374.555116</td>\n",
              "      <td>5201.000000</td>\n",
              "      <td>7448.000000</td>\n",
              "      <td>8360.000000</td>\n",
              "      <td>9370.000000</td>\n",
              "      <td>12907.0</td>\n",
              "    </tr>\n",
              "    <tr>\n",
              "      <th>v2</th>\n",
              "      <td>25600.0</td>\n",
              "      <td>338.383477</td>\n",
              "      <td>258.027678</td>\n",
              "      <td>0.000000</td>\n",
              "      <td>76.750000</td>\n",
              "      <td>325.000000</td>\n",
              "      <td>580.000000</td>\n",
              "      <td>776.0</td>\n",
              "    </tr>\n",
              "    <tr>\n",
              "      <th>v3</th>\n",
              "      <td>25600.0</td>\n",
              "      <td>2984.582383</td>\n",
              "      <td>558.199923</td>\n",
              "      <td>1629.000000</td>\n",
              "      <td>2581.000000</td>\n",
              "      <td>2960.000000</td>\n",
              "      <td>3363.000000</td>\n",
              "      <td>4812.0</td>\n",
              "    </tr>\n",
              "  </tbody>\n",
              "</table>\n",
              "</div>\n",
              "      <button class=\"colab-df-convert\" onclick=\"convertToInteractive('df-d294e13e-4f3a-4ed7-99fc-faa36036d4f0')\"\n",
              "              title=\"Convert this dataframe to an interactive table.\"\n",
              "              style=\"display:none;\">\n",
              "        \n",
              "  <svg xmlns=\"http://www.w3.org/2000/svg\" height=\"24px\"viewBox=\"0 0 24 24\"\n",
              "       width=\"24px\">\n",
              "    <path d=\"M0 0h24v24H0V0z\" fill=\"none\"/>\n",
              "    <path d=\"M18.56 5.44l.94 2.06.94-2.06 2.06-.94-2.06-.94-.94-2.06-.94 2.06-2.06.94zm-11 1L8.5 8.5l.94-2.06 2.06-.94-2.06-.94L8.5 2.5l-.94 2.06-2.06.94zm10 10l.94 2.06.94-2.06 2.06-.94-2.06-.94-.94-2.06-.94 2.06-2.06.94z\"/><path d=\"M17.41 7.96l-1.37-1.37c-.4-.4-.92-.59-1.43-.59-.52 0-1.04.2-1.43.59L10.3 9.45l-7.72 7.72c-.78.78-.78 2.05 0 2.83L4 21.41c.39.39.9.59 1.41.59.51 0 1.02-.2 1.41-.59l7.78-7.78 2.81-2.81c.8-.78.8-2.07 0-2.86zM5.41 20L4 18.59l7.72-7.72 1.47 1.35L5.41 20z\"/>\n",
              "  </svg>\n",
              "      </button>\n",
              "      \n",
              "  <style>\n",
              "    .colab-df-container {\n",
              "      display:flex;\n",
              "      flex-wrap:wrap;\n",
              "      gap: 12px;\n",
              "    }\n",
              "\n",
              "    .colab-df-convert {\n",
              "      background-color: #E8F0FE;\n",
              "      border: none;\n",
              "      border-radius: 50%;\n",
              "      cursor: pointer;\n",
              "      display: none;\n",
              "      fill: #1967D2;\n",
              "      height: 32px;\n",
              "      padding: 0 0 0 0;\n",
              "      width: 32px;\n",
              "    }\n",
              "\n",
              "    .colab-df-convert:hover {\n",
              "      background-color: #E2EBFA;\n",
              "      box-shadow: 0px 1px 2px rgba(60, 64, 67, 0.3), 0px 1px 3px 1px rgba(60, 64, 67, 0.15);\n",
              "      fill: #174EA6;\n",
              "    }\n",
              "\n",
              "    [theme=dark] .colab-df-convert {\n",
              "      background-color: #3B4455;\n",
              "      fill: #D2E3FC;\n",
              "    }\n",
              "\n",
              "    [theme=dark] .colab-df-convert:hover {\n",
              "      background-color: #434B5C;\n",
              "      box-shadow: 0px 1px 3px 1px rgba(0, 0, 0, 0.15);\n",
              "      filter: drop-shadow(0px 1px 2px rgba(0, 0, 0, 0.3));\n",
              "      fill: #FFFFFF;\n",
              "    }\n",
              "  </style>\n",
              "\n",
              "      <script>\n",
              "        const buttonEl =\n",
              "          document.querySelector('#df-d294e13e-4f3a-4ed7-99fc-faa36036d4f0 button.colab-df-convert');\n",
              "        buttonEl.style.display =\n",
              "          google.colab.kernel.accessAllowed ? 'block' : 'none';\n",
              "\n",
              "        async function convertToInteractive(key) {\n",
              "          const element = document.querySelector('#df-d294e13e-4f3a-4ed7-99fc-faa36036d4f0');\n",
              "          const dataTable =\n",
              "            await google.colab.kernel.invokeFunction('convertToInteractive',\n",
              "                                                     [key], {});\n",
              "          if (!dataTable) return;\n",
              "\n",
              "          const docLinkHtml = 'Like what you see? Visit the ' +\n",
              "            '<a target=\"_blank\" href=https://colab.research.google.com/notebooks/data_table.ipynb>data table notebook</a>'\n",
              "            + ' to learn more about interactive tables.';\n",
              "          element.innerHTML = '';\n",
              "          dataTable['output_type'] = 'display_data';\n",
              "          await google.colab.output.renderOutput(dataTable, element);\n",
              "          const docLink = document.createElement('div');\n",
              "          docLink.innerHTML = docLinkHtml;\n",
              "          element.appendChild(docLink);\n",
              "        }\n",
              "      </script>\n",
              "    </div>\n",
              "  </div>\n",
              "  "
            ],
            "text/plain": [
              "      count          mean          std  ...           50%           75%      max\n",
              "#   25600.0  12799.500000  7390.227782  ...  12799.500000  19199.250000  25599.0\n",
              "P0  25600.0      0.923077     0.054394  ...      0.923077      0.961538      1.0\n",
              "P1  25600.0      0.625000     0.279514  ...      0.625000      0.812500      1.0\n",
              "P2  25600.0      0.678571     0.239583  ...      0.678571      0.839286      1.0\n",
              "P3  25600.0      0.571429     0.303052  ...      0.571429      0.785714      1.0\n",
              "P4  25600.0      0.833333     0.124228  ...      0.833333      0.916667      1.0\n",
              "P5  25600.0      0.946429     0.039931  ...      0.946429      0.973214      1.0\n",
              "P6  25600.0      0.732143     0.199653  ...      0.732143      0.866071      1.0\n",
              "v1  25600.0   8460.377852  1374.555116  ...   8360.000000   9370.000000  12907.0\n",
              "v2  25600.0    338.383477   258.027678  ...    325.000000    580.000000    776.0\n",
              "v3  25600.0   2984.582383   558.199923  ...   2960.000000   3363.000000   4812.0\n",
              "\n",
              "[11 rows x 8 columns]"
            ]
          },
          "metadata": {},
          "execution_count": 8
        }
      ]
    },
    {
      "cell_type": "code",
      "source": [
        "X = df[predictors].values\n",
        "y = df[target_column].values\n",
        "\n",
        "X_train, X_test, y_train, y_test = train_test_split(X, y, test_size=0.30, random_state=40)\n",
        "print(X_train.shape); print(X_test.shape)"
      ],
      "metadata": {
        "colab": {
          "base_uri": "https://localhost:8080/"
        },
        "id": "saJiLrl6JJcZ",
        "outputId": "e0ccff99-c38e-4c80-cf0c-5fb448908958"
      },
      "execution_count": 9,
      "outputs": [
        {
          "output_type": "stream",
          "name": "stdout",
          "text": [
            "(17920, 7)\n",
            "(7680, 7)\n"
          ]
        }
      ]
    },
    {
      "cell_type": "code",
      "source": [
        "from sklearn.neural_network import MLPRegressor\n",
        "\n",
        "mlp = MLPRegressor(hidden_layer_sizes=(8,8,8), activation='relu', solver='adam', max_iter=500)\n",
        "mlp.fit(X_train,y_train)\n",
        "\n",
        "predict_train = mlp.predict(X_train)\n",
        "predict_test = mlp.predict(X_test)"
      ],
      "metadata": {
        "id": "ycY3ys4JJOqq"
      },
      "execution_count": 11,
      "outputs": []
    },
    {
      "cell_type": "code",
      "source": [
        "#print(\"R2-score: %.2f\" % r2_score(test_y , test_y_) )\n",
        "print(\"R2-score: %.2f\" % r2_score(y_test,predict_test) )"
      ],
      "metadata": {
        "colab": {
          "base_uri": "https://localhost:8080/"
        },
        "id": "ItJ4ltd8Lw_2",
        "outputId": "4e9a12a1-d6fb-4132-e34b-0389274d25f0"
      },
      "execution_count": 12,
      "outputs": [
        {
          "output_type": "stream",
          "name": "stdout",
          "text": [
            "R2-score: 0.97\n"
          ]
        }
      ]
    },
    {
      "cell_type": "code",
      "source": [
        "target_column = ['v2'] \n",
        "predictors = ['P0', 'P1' , 'P2' , 'P3' , 'P4' , 'P5' , 'P6']\n",
        "df[predictors] = df[predictors]/df[predictors].max()\n",
        "df.describe().transpose()\n",
        "\n",
        "from sklearn.neural_network import MLPRegressor\n",
        "\n",
        "mlp = MLPRegressor(hidden_layer_sizes=(8,8,8), activation='relu', solver='adam', max_iter=500)\n",
        "mlp.fit(X_train,y_train)\n",
        "\n",
        "predict_train = mlp.predict(X_train)\n",
        "predict_test = mlp.predict(X_test)\n",
        "\n",
        "print(\"R2-score: %.2f\" % r2_score(y_test,predict_test) )"
      ],
      "metadata": {
        "colab": {
          "base_uri": "https://localhost:8080/"
        },
        "id": "EtZXbh_fP_gR",
        "outputId": "535423cb-0146-4969-f7a0-28bc3ebfad31"
      },
      "execution_count": 13,
      "outputs": [
        {
          "output_type": "stream",
          "name": "stdout",
          "text": [
            "R2-score: 0.99\n"
          ]
        }
      ]
    },
    {
      "cell_type": "code",
      "source": [
        "target_column = ['v3'] \n",
        "predictors = ['P0', 'P1' , 'P2' , 'P3' , 'P4' , 'P5' , 'P6']\n",
        "df[predictors] = df[predictors]/df[predictors].max()\n",
        "df.describe().transpose()\n",
        "\n",
        "from sklearn.neural_network import MLPRegressor\n",
        "\n",
        "mlp = MLPRegressor(hidden_layer_sizes=(8,8,8), activation='relu', solver='adam', max_iter=500)\n",
        "mlp.fit(X_train,y_train)\n",
        "\n",
        "predict_train = mlp.predict(X_train)\n",
        "predict_test = mlp.predict(X_test)\n",
        "\n",
        "print(\"R2-score: %.2f\" % r2_score(y_test,predict_test) )"
      ],
      "metadata": {
        "colab": {
          "base_uri": "https://localhost:8080/"
        },
        "id": "D6dy8IB6QPf2",
        "outputId": "b5a9a443-8644-48f9-85d7-24c3e0dabff6"
      },
      "execution_count": 14,
      "outputs": [
        {
          "output_type": "stream",
          "name": "stdout",
          "text": [
            "R2-score: 0.99\n"
          ]
        }
      ]
    }
  ],
  "metadata": {
    "kernelspec": {
      "display_name": "Python 3",
      "language": "python",
      "name": "python3"
    },
    "language_info": {
      "codemirror_mode": {
        "name": "ipython",
        "version": 3
      },
      "file_extension": ".py",
      "mimetype": "text/x-python",
      "name": "python",
      "nbconvert_exporter": "python",
      "pygments_lexer": "ipython3",
      "version": "3.8.5"
    },
    "colab": {
      "name": "AHU-HR HVAC ANN SKLEARN.ipynb",
      "provenance": [],
      "collapsed_sections": []
    }
  },
  "nbformat": 4,
  "nbformat_minor": 0
}